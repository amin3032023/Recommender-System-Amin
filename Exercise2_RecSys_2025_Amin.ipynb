{
  "cells": [
    {
      "cell_type": "markdown",
      "metadata": {
        "id": "mFFk9W3gqMkK"
      },
      "source": [
        "# **Content-based Recommenders**\n",
        "\n",
        "---\n",
        "\n",
        "## **Overview**\n",
        "During this exercise you will create and use some content-based profiles for  enerating predictions using Python. It will be necessary to make different computational variations to observe how certain features of computations can bring biases.\n",
        "\n",
        "***Please upload in Moodle this notebook (executable and in PDF) with the code and answers to the posted questions. ***"
      ]
    },
    {
      "cell_type": "markdown",
      "metadata": {
        "id": "1IZLTCwZsruU"
      },
      "source": [
        "## **Instructions**\n",
        "\n",
        "Before you start just to remind the intuitive algorithm of the content-based filtering:\n",
        "\n",
        "\n",
        "\n",
        "1.   Computing vectors to describe items (have a dataset of described articles (items)).\n",
        "2.   Based on the user ratings of items and item’s content profiles, build a user profile preferences\n",
        "(preferences of attributes).\n",
        "3. Predicting user interests in items based on a dot product of the item profile vector and user\n",
        "profile vector. Vectors should be normalized.\n",
        "4. From this prediction create a top n recommendations or scale for rating-scale predictions\n",
        "\n"
      ]
    },
    {
      "cell_type": "code",
      "execution_count": 4,
      "metadata": {
        "colab": {
          "base_uri": "https://localhost:8080/"
        },
        "id": "YlbUCmrXqL33",
        "outputId": "e1c53970-f52a-408f-a9b1-11c343631180"
      },
      "outputs": [
        {
          "name": "stdout",
          "output_type": "stream",
          "text": [
            "                                    Movie  Adventure  Animation  Children  \\\n",
            "0                        Toy Story (1995)          1          0         1   \n",
            "1                          Jumanji (1995)          0          1         1   \n",
            "2                 Grumpier Old Men (1995)          0          0         0   \n",
            "3                Waiting to Exhale (1995)          0          0         1   \n",
            "4      Father of the Bride Part II (1995)          0          1         0   \n",
            "5                             Heat (1995)          1          0         0   \n",
            "6                          Sabrina (1995)          0          0         0   \n",
            "7                     Tom and Huck (1995)          0          0         1   \n",
            "8                     Sudden Death (1995)          0          0         0   \n",
            "9                        GoldenEye (1995)          0          1         0   \n",
            "10         American President, The (1995)          0          0         1   \n",
            "11     Dracula: Dead and Loving It (1995)          1          0         0   \n",
            "12                           Balto (1995)          0          0         1   \n",
            "13                           Nixon (1995)          0          1         1   \n",
            "14                Cutthroat Island (1995)          0          0         0   \n",
            "15                          Casino (1995)          1          0         0   \n",
            "16           Sense and Sensibility (1995)          0          1         1   \n",
            "17                      Four Rooms (1995)          0          0         0   \n",
            "18  Ace Ventura: When Nature Calls (1995)          0          1         1   \n",
            "19                     Money Train (1995)          0          0         1   \n",
            "\n",
            "    Comedy  Fantasy  Romance  Drama  Thriller  Action  Horror  Num_Attr  \\\n",
            "0        0        1        1      0         0       0       1         5   \n",
            "1        1        0        0      0         1       0       0         4   \n",
            "2        1        1        1      0         0       0       0         3   \n",
            "3        1        0        0      1         1       0       0         4   \n",
            "4        0        0        0      0         0       1       1         3   \n",
            "5        1        0        0      0         0       0       0         2   \n",
            "6        0        0        0      0         1       0       1         2   \n",
            "7        1        0        0      1         0       0       1         4   \n",
            "8        0        0        1      0         0       1       0         2   \n",
            "9        0        1        0      1         0       0       0         3   \n",
            "10       0        1        0      0         0       1       0         3   \n",
            "11       0        0        1      1         0       0       0         3   \n",
            "12       1        1        0      0         1       0       0         4   \n",
            "13       1        0        0      0         0       1       0         4   \n",
            "14       1        0        1      1         1       0       0         4   \n",
            "15       0        0        1      0         0       1       0         3   \n",
            "16       1        0        0      0         1       0       0         4   \n",
            "17       1        0        0      0         0       1       0         2   \n",
            "18       0        1        0      1         0       0       1         5   \n",
            "19       1        0        0      1         0       1       0         4   \n",
            "\n",
            "    John_Likes  Joan_Likes  \n",
            "0            1          -1  \n",
            "1           -1           1  \n",
            "2            0           0  \n",
            "3            0           1  \n",
            "4            0           0  \n",
            "5            1           0  \n",
            "6            0           0  \n",
            "7            0           0  \n",
            "8            0           0  \n",
            "9            0           0  \n",
            "10           0           0  \n",
            "11           0          -1  \n",
            "12           0           0  \n",
            "13           0           0  \n",
            "14           0           0  \n",
            "15           1           0  \n",
            "16           0           1  \n",
            "17           0           0  \n",
            "18          -1           0  \n",
            "19           0           0  \n"
          ]
        }
      ],
      "source": [
        "#AUTHOR: Write your name here\n",
        "\n",
        "import numpy as np\n",
        "import pandas as pd\n",
        "\n",
        "# read CSV\n",
        "movies = pd.read_csv('/movies.csv')\n",
        "\n",
        "\n",
        "#Users ratings. 1 means like, -1 dislike, 0 not rated\n",
        "john_likes=pd.DataFrame([1, -1, 0, 0, 0, 1, 0, 0, 0, 0, 0, 0, 0, 0, 0, 1, 0, 0, -1, 0])\n",
        "joan_likes=pd.DataFrame([-1, 1, 0, 1, 0, 0, 0, 0, 0, 0, 0, -1, 0, 0, 0, 0, 1, 0, 0, 0])\n",
        "\n",
        "#Adding the likes to the Dataset\n",
        "movies[\"John_Likes\"]=john_likes\n",
        "movies[\"Joan_Likes\"]=joan_likes\n",
        "\n",
        "#The dataframe with the dataset\n",
        "print(movies)\n",
        "\n",
        "#Copy of the original datased  useful for Task 2\n",
        "movies_weighted=movies.copy()"
      ]
    },
    {
      "cell_type": "markdown",
      "metadata": {
        "id": "opfrt-sSuSkn"
      },
      "source": [
        "### Preparation\n",
        "\n",
        "For this exercise, the small dataset `movies.csv` will be used. It has twenty (20) entries and each\n",
        "entry corresponds to the name of a movie, followed by ten values which can be one (1) or zero (0),\n",
        "where one (1) means that the movie belongs to the genre indicated on the header of the csv file;\n",
        "the last value represents the number of genres that the movie has (`Num_Attr`)\n",
        "1. Open the file CBRecommender.py with your favorite Python editor.\n",
        "2. Read the code following the instructions of this document.\n",
        "3. Complete the tasks by adding the lines of code that you consider necessary."
      ]
    },
    {
      "cell_type": "markdown",
      "metadata": {
        "id": "sx2dPNa_upbw"
      },
      "source": [
        "**Task 1: Build a recommender with simple unweighted content-based profiles**\n",
        "\n",
        "Build up a user profile of preferences of movie genre for the user *Joan*. Write the necessary\n",
        "lines of codes, to this end you may follow these instructions and example:\n",
        "\n",
        "* Count the total number of positive and negative evaluations associated with each movie genre, and then create a profile with the total score for each genre for user *Joan*.\n",
        "* For example, *John’s* score for the genre “Adventure” will be equal to three (3) from three (3) positive evaluations of the movies Toy Story, Heat, and casino.\n",
        "* Basically, you need to use a dot-product-like operation of the user’s ratings dataframe (i.e., john_likes) with the attribute’s vector across the twenty (20) movies. Take as an example of this the following line of code:\n"
      ]
    },
    {
      "cell_type": "code",
      "execution_count": 5,
      "metadata": {
        "colab": {
          "base_uri": "https://localhost:8080/"
        },
        "id": "iGkL0VrnwQif",
        "outputId": "f3c95872-c471-4e2a-86a4-99af07d24e48"
      },
      "outputs": [
        {
          "name": "stdout",
          "output_type": "stream",
          "text": [
            "   0  1  2  3  4  5  6  7  8  9\n",
            "0  3 -2 -1  0  0  2 -1 -1  1  0\n"
          ]
        }
      ],
      "source": [
        "#User profile by movie genre\n",
        "john_likes_score=pd.DataFrame((movies.iloc[:,1:11].values*john_likes.values).sum(axis=0)).T\n",
        "print(john_likes_score)"
      ]
    },
    {
      "cell_type": "markdown",
      "metadata": {
        "id": "CUkcHinkxQqT"
      },
      "source": [
        "\n",
        "**Compute the user profile for Joan:**\n",
        "\n",
        "You could use something similar as the code above to perform the calculations for user *Joan*.\n"
      ]
    },
    {
      "cell_type": "code",
      "execution_count": 7,
      "metadata": {
        "colab": {
          "base_uri": "https://localhost:8080/"
        },
        "id": "1kcCXGJBxiul",
        "outputId": "77554c43-3022-4eaf-8ecf-51be57096bca"
      },
      "outputs": [
        {
          "name": "stdout",
          "output_type": "stream",
          "text": [
            "   0  1  2  3  4  5  6  7  8  9\n",
            "0 -2  2  2  3 -1 -2  0  3  0 -1\n"
          ]
        }
      ],
      "source": [
        "joan_likes_score = pd.DataFrame((movies.iloc[:, 1:11].values * joan_likes.values).sum(axis=0)).T\n",
        "\n",
        "print(joan_likes_score)\n"
      ]
    },
    {
      "cell_type": "markdown",
      "metadata": {
        "id": "ZePpe8jBxrZg"
      },
      "source": [
        "Now, you have the user profile of preferences for each movie genre and also the movie vector with content attributes (the genres of each movie). From this, compute the predicted score for each article for the user *Joan* as explained below and answer the following questions:\n",
        "1. Produce a dot-product of user’s profile preferences with each movie vector.  \n",
        "Example for John:\n",
        "\n"
      ]
    },
    {
      "cell_type": "code",
      "execution_count": 6,
      "metadata": {
        "colab": {
          "base_uri": "https://localhost:8080/"
        },
        "id": "wM2m2XYuyHD9",
        "outputId": "b8352e88-8880-4b61-aa7f-7809c4b0684d"
      },
      "outputs": [
        {
          "name": "stdout",
          "output_type": "stream",
          "text": [
            "                                    Movie  John_Likes  Pred_John\n",
            "0                        Toy Story (1995)           1          4\n",
            "1                          Jumanji (1995)          -1         -4\n",
            "2                 Grumpier Old Men (1995)           0          2\n",
            "3                Waiting to Exhale (1995)           0         -3\n",
            "4      Father of the Bride Part II (1995)           0         -1\n",
            "5                             Heat (1995)           1          3\n",
            "6                          Sabrina (1995)           0         -1\n",
            "7                     Tom and Huck (1995)           0         -2\n",
            "8                     Sudden Death (1995)           0          3\n",
            "9                        GoldenEye (1995)           0         -3\n",
            "10         American President, The (1995)           0          0\n",
            "11     Dracula: Dead and Loving It (1995)           0          4\n",
            "12                           Balto (1995)           0         -2\n",
            "13                           Nixon (1995)           0         -2\n",
            "14                Cutthroat Island (1995)           0          0\n",
            "15                          Casino (1995)           1          6\n",
            "16           Sense and Sensibility (1995)           0         -4\n",
            "17                      Four Rooms (1995)           0          1\n",
            "18  Ace Ventura: When Nature Calls (1995)          -1         -4\n",
            "19                     Money Train (1995)           0         -1\n"
          ]
        }
      ],
      "source": [
        "#Prediction vales for  user John\n",
        "pred_john=(movies.iloc[:,1:11].values*john_likes_score.values).sum(axis=1)\n",
        "\n",
        "movies[\"Pred_John\"]=pred_john\n",
        "\n",
        "#Showing the prediction scores for John and the names of the movies\n",
        "print(movies[['Movie','John_Likes','Pred_John']])"
      ]
    },
    {
      "cell_type": "code",
      "execution_count": 8,
      "metadata": {
        "colab": {
          "base_uri": "https://localhost:8080/"
        },
        "id": "5uMqUt90yha1",
        "outputId": "1e6e1258-1801-4167-8994-9d0d01b53a1a"
      },
      "outputs": [
        {
          "name": "stdout",
          "output_type": "stream",
          "text": [
            "                                    Movie  Joan_Likes  Pred_Joan\n",
            "0                        Toy Story (1995)          -1         -4\n",
            "1                          Jumanji (1995)           1         10\n",
            "2                 Grumpier Old Men (1995)           0          0\n",
            "3                Waiting to Exhale (1995)           1          8\n",
            "4      Father of the Bride Part II (1995)           0          1\n",
            "5                             Heat (1995)           0          1\n",
            "6                          Sabrina (1995)           0          2\n",
            "7                     Tom and Huck (1995)           0          4\n",
            "8                     Sudden Death (1995)           0         -2\n",
            "9                        GoldenEye (1995)           0          1\n",
            "10         American President, The (1995)           0          1\n",
            "11     Dracula: Dead and Loving It (1995)          -1         -4\n",
            "12                           Balto (1995)           0          7\n",
            "13                           Nixon (1995)           0          7\n",
            "14                Cutthroat Island (1995)           0          4\n",
            "15                          Casino (1995)           0         -4\n",
            "16           Sense and Sensibility (1995)           1         10\n",
            "17                      Four Rooms (1995)           0          3\n",
            "18  Ace Ventura: When Nature Calls (1995)           0          2\n",
            "19                     Money Train (1995)           0          5\n"
          ]
        }
      ],
      "source": [
        "# Write here the code to calculate the prediction vales for  user Joan\n",
        "\n",
        "pred_joan = (movies.iloc[:, 1:11].values * joan_likes_score.values).sum(axis=1)\n",
        "\n",
        "movies[\"Pred_Joan\"] = pred_joan\n",
        "\n",
        "print(movies[['Movie', 'Joan_Likes', 'Pred_Joan']])\n"
      ]
    },
    {
      "cell_type": "markdown",
      "metadata": {
        "id": "jyfUsbWZyOqw"
      },
      "source": [
        "2.  Which movie does the simple profile predict *John* will like the most, excluding the movies he has already rated?\n",
        "> *Answer:* Balto (1995)\n",
        "\n",
        "3.  What score does that prediction get?\n",
        "> *Answer:* 7\n",
        "\n",
        "4.  How many movies does the model predict the user *Joan* will dislike i.e., have a negative score?\n",
        "> *Answer:* 4\n",
        "\n",
        "5. Which movie will the user *Joan* like the most, excluding the movies she has already rated?\n",
        "> *Answer:* Balto (1995)\n"
      ]
    },
    {
      "cell_type": "markdown",
      "metadata": {
        "id": "QlSTgsYE2G2C"
      },
      "source": [
        "**Task 2: Build a recommender with simple weighted contentbased\n",
        "profiles**\n",
        "\n",
        "It can be noticed that, in the previous computation a movie that has many genres checked could have more influence on the overall user profile than one that had only a few. For instance, the movie Toy Story has five (5) genres, while Sabrina only has two (2).\n",
        "\n",
        "In this task you will explore whether the previous model (Task 1) may be counting attribute-heavy documents too much resulting in biased prediction scores. For this, write the code that you consider necessary, simply add it under the indicated comment. You may use the dataframe `movies_weighted`, which is a copy of the original dataframe but without the profiles and prediction\n",
        "scores of the previous task (check the first code block)."
      ]
    },
    {
      "cell_type": "markdown",
      "metadata": {
        "id": "0a9SC96A20zT"
      },
      "source": [
        "1. Build a new weighted model by doing the following:\n",
        "\n",
        "\n",
        "*    Get the square root of the total number of attributes for each movie. You can use the field `Num_Attr` of the dataset for this.\n",
        "*   Divide each value of each article vector by the value calculated in the previous point\n"
      ]
    },
    {
      "cell_type": "code",
      "execution_count": 9,
      "metadata": {
        "colab": {
          "base_uri": "https://localhost:8080/"
        },
        "id": "uMbbeLz43MU7",
        "outputId": "af473f42-c161-45de-d321-4fe146096f95"
      },
      "outputs": [
        {
          "name": "stdout",
          "output_type": "stream",
          "text": [
            "                                Movie  Adventure  Animation  Children  \\\n",
            "0                    Toy Story (1995)   0.447214    0.00000  0.447214   \n",
            "1                      Jumanji (1995)   0.000000    0.50000  0.500000   \n",
            "2             Grumpier Old Men (1995)   0.000000    0.00000  0.000000   \n",
            "3            Waiting to Exhale (1995)   0.000000    0.00000  0.500000   \n",
            "4  Father of the Bride Part II (1995)   0.000000    0.57735  0.000000   \n",
            "\n",
            "    Comedy   Fantasy   Romance  Drama  Thriller   Action    Horror  Num_Attr  \\\n",
            "0  0.00000  0.447214  0.447214    0.0       0.0  0.00000  0.447214         5   \n",
            "1  0.50000  0.000000  0.000000    0.0       0.5  0.00000  0.000000         4   \n",
            "2  0.57735  0.577350  0.577350    0.0       0.0  0.00000  0.000000         3   \n",
            "3  0.50000  0.000000  0.000000    0.5       0.5  0.00000  0.000000         4   \n",
            "4  0.00000  0.000000  0.000000    0.0       0.0  0.57735  0.577350         3   \n",
            "\n",
            "   John_Likes  Joan_Likes    Weight  \n",
            "0           1          -1  2.236068  \n",
            "1          -1           1  2.000000  \n",
            "2           0           0  1.732051  \n",
            "3           0           1  2.000000  \n",
            "4           0           0  1.732051  \n"
          ]
        },
        {
          "name": "stderr",
          "output_type": "stream",
          "text": [
            "<ipython-input-9-e4cc6af586a4>:6: FutureWarning: Setting an item of incompatible dtype is deprecated and will raise in a future error of pandas. Value '0     0.447214\n",
            "1     0.000000\n",
            "2     0.000000\n",
            "3     0.000000\n",
            "4     0.000000\n",
            "5     0.707107\n",
            "6     0.000000\n",
            "7     0.000000\n",
            "8     0.000000\n",
            "9     0.000000\n",
            "10    0.000000\n",
            "11    0.577350\n",
            "12    0.000000\n",
            "13    0.000000\n",
            "14    0.000000\n",
            "15    0.577350\n",
            "16    0.000000\n",
            "17    0.000000\n",
            "18    0.000000\n",
            "19    0.000000\n",
            "Name: Adventure, dtype: float64' has dtype incompatible with int64, please explicitly cast to a compatible dtype first.\n",
            "  movies_weighted.iloc[:, 1:11] = movies_weighted.iloc[:, 1:11].div(movies_weighted[\"Weight\"], axis=0)\n",
            "<ipython-input-9-e4cc6af586a4>:6: FutureWarning: Setting an item of incompatible dtype is deprecated and will raise in a future error of pandas. Value '0     0.000000\n",
            "1     0.500000\n",
            "2     0.000000\n",
            "3     0.000000\n",
            "4     0.577350\n",
            "5     0.000000\n",
            "6     0.000000\n",
            "7     0.000000\n",
            "8     0.000000\n",
            "9     0.577350\n",
            "10    0.000000\n",
            "11    0.000000\n",
            "12    0.000000\n",
            "13    0.500000\n",
            "14    0.000000\n",
            "15    0.000000\n",
            "16    0.500000\n",
            "17    0.000000\n",
            "18    0.447214\n",
            "19    0.000000\n",
            "Name: Animation, dtype: float64' has dtype incompatible with int64, please explicitly cast to a compatible dtype first.\n",
            "  movies_weighted.iloc[:, 1:11] = movies_weighted.iloc[:, 1:11].div(movies_weighted[\"Weight\"], axis=0)\n",
            "<ipython-input-9-e4cc6af586a4>:6: FutureWarning: Setting an item of incompatible dtype is deprecated and will raise in a future error of pandas. Value '0     0.447214\n",
            "1     0.500000\n",
            "2     0.000000\n",
            "3     0.500000\n",
            "4     0.000000\n",
            "5     0.000000\n",
            "6     0.000000\n",
            "7     0.500000\n",
            "8     0.000000\n",
            "9     0.000000\n",
            "10    0.577350\n",
            "11    0.000000\n",
            "12    0.500000\n",
            "13    0.500000\n",
            "14    0.000000\n",
            "15    0.000000\n",
            "16    0.500000\n",
            "17    0.000000\n",
            "18    0.447214\n",
            "19    0.500000\n",
            "Name: Children, dtype: float64' has dtype incompatible with int64, please explicitly cast to a compatible dtype first.\n",
            "  movies_weighted.iloc[:, 1:11] = movies_weighted.iloc[:, 1:11].div(movies_weighted[\"Weight\"], axis=0)\n",
            "<ipython-input-9-e4cc6af586a4>:6: FutureWarning: Setting an item of incompatible dtype is deprecated and will raise in a future error of pandas. Value '0     0.000000\n",
            "1     0.500000\n",
            "2     0.577350\n",
            "3     0.500000\n",
            "4     0.000000\n",
            "5     0.707107\n",
            "6     0.000000\n",
            "7     0.500000\n",
            "8     0.000000\n",
            "9     0.000000\n",
            "10    0.000000\n",
            "11    0.000000\n",
            "12    0.500000\n",
            "13    0.500000\n",
            "14    0.500000\n",
            "15    0.000000\n",
            "16    0.500000\n",
            "17    0.707107\n",
            "18    0.000000\n",
            "19    0.500000\n",
            "Name: Comedy, dtype: float64' has dtype incompatible with int64, please explicitly cast to a compatible dtype first.\n",
            "  movies_weighted.iloc[:, 1:11] = movies_weighted.iloc[:, 1:11].div(movies_weighted[\"Weight\"], axis=0)\n",
            "<ipython-input-9-e4cc6af586a4>:6: FutureWarning: Setting an item of incompatible dtype is deprecated and will raise in a future error of pandas. Value '0     0.447214\n",
            "1     0.000000\n",
            "2     0.577350\n",
            "3     0.000000\n",
            "4     0.000000\n",
            "5     0.000000\n",
            "6     0.000000\n",
            "7     0.000000\n",
            "8     0.000000\n",
            "9     0.577350\n",
            "10    0.577350\n",
            "11    0.000000\n",
            "12    0.500000\n",
            "13    0.000000\n",
            "14    0.000000\n",
            "15    0.000000\n",
            "16    0.000000\n",
            "17    0.000000\n",
            "18    0.447214\n",
            "19    0.000000\n",
            "Name: Fantasy, dtype: float64' has dtype incompatible with int64, please explicitly cast to a compatible dtype first.\n",
            "  movies_weighted.iloc[:, 1:11] = movies_weighted.iloc[:, 1:11].div(movies_weighted[\"Weight\"], axis=0)\n",
            "<ipython-input-9-e4cc6af586a4>:6: FutureWarning: Setting an item of incompatible dtype is deprecated and will raise in a future error of pandas. Value '0     0.447214\n",
            "1     0.000000\n",
            "2     0.577350\n",
            "3     0.000000\n",
            "4     0.000000\n",
            "5     0.000000\n",
            "6     0.000000\n",
            "7     0.000000\n",
            "8     0.707107\n",
            "9     0.000000\n",
            "10    0.000000\n",
            "11    0.577350\n",
            "12    0.000000\n",
            "13    0.000000\n",
            "14    0.500000\n",
            "15    0.577350\n",
            "16    0.000000\n",
            "17    0.000000\n",
            "18    0.000000\n",
            "19    0.000000\n",
            "Name: Romance, dtype: float64' has dtype incompatible with int64, please explicitly cast to a compatible dtype first.\n",
            "  movies_weighted.iloc[:, 1:11] = movies_weighted.iloc[:, 1:11].div(movies_weighted[\"Weight\"], axis=0)\n",
            "<ipython-input-9-e4cc6af586a4>:6: FutureWarning: Setting an item of incompatible dtype is deprecated and will raise in a future error of pandas. Value '0     0.000000\n",
            "1     0.000000\n",
            "2     0.000000\n",
            "3     0.500000\n",
            "4     0.000000\n",
            "5     0.000000\n",
            "6     0.000000\n",
            "7     0.500000\n",
            "8     0.000000\n",
            "9     0.577350\n",
            "10    0.000000\n",
            "11    0.577350\n",
            "12    0.000000\n",
            "13    0.000000\n",
            "14    0.500000\n",
            "15    0.000000\n",
            "16    0.000000\n",
            "17    0.000000\n",
            "18    0.447214\n",
            "19    0.500000\n",
            "Name: Drama, dtype: float64' has dtype incompatible with int64, please explicitly cast to a compatible dtype first.\n",
            "  movies_weighted.iloc[:, 1:11] = movies_weighted.iloc[:, 1:11].div(movies_weighted[\"Weight\"], axis=0)\n",
            "<ipython-input-9-e4cc6af586a4>:6: FutureWarning: Setting an item of incompatible dtype is deprecated and will raise in a future error of pandas. Value '0     0.000000\n",
            "1     0.500000\n",
            "2     0.000000\n",
            "3     0.500000\n",
            "4     0.000000\n",
            "5     0.000000\n",
            "6     0.707107\n",
            "7     0.000000\n",
            "8     0.000000\n",
            "9     0.000000\n",
            "10    0.000000\n",
            "11    0.000000\n",
            "12    0.500000\n",
            "13    0.000000\n",
            "14    0.500000\n",
            "15    0.000000\n",
            "16    0.500000\n",
            "17    0.000000\n",
            "18    0.000000\n",
            "19    0.000000\n",
            "Name: Thriller, dtype: float64' has dtype incompatible with int64, please explicitly cast to a compatible dtype first.\n",
            "  movies_weighted.iloc[:, 1:11] = movies_weighted.iloc[:, 1:11].div(movies_weighted[\"Weight\"], axis=0)\n",
            "<ipython-input-9-e4cc6af586a4>:6: FutureWarning: Setting an item of incompatible dtype is deprecated and will raise in a future error of pandas. Value '0     0.000000\n",
            "1     0.000000\n",
            "2     0.000000\n",
            "3     0.000000\n",
            "4     0.577350\n",
            "5     0.000000\n",
            "6     0.000000\n",
            "7     0.000000\n",
            "8     0.707107\n",
            "9     0.000000\n",
            "10    0.577350\n",
            "11    0.000000\n",
            "12    0.000000\n",
            "13    0.500000\n",
            "14    0.000000\n",
            "15    0.577350\n",
            "16    0.000000\n",
            "17    0.707107\n",
            "18    0.000000\n",
            "19    0.500000\n",
            "Name: Action, dtype: float64' has dtype incompatible with int64, please explicitly cast to a compatible dtype first.\n",
            "  movies_weighted.iloc[:, 1:11] = movies_weighted.iloc[:, 1:11].div(movies_weighted[\"Weight\"], axis=0)\n",
            "<ipython-input-9-e4cc6af586a4>:6: FutureWarning: Setting an item of incompatible dtype is deprecated and will raise in a future error of pandas. Value '0     0.447214\n",
            "1     0.000000\n",
            "2     0.000000\n",
            "3     0.000000\n",
            "4     0.577350\n",
            "5     0.000000\n",
            "6     0.707107\n",
            "7     0.500000\n",
            "8     0.000000\n",
            "9     0.000000\n",
            "10    0.000000\n",
            "11    0.000000\n",
            "12    0.000000\n",
            "13    0.000000\n",
            "14    0.000000\n",
            "15    0.000000\n",
            "16    0.000000\n",
            "17    0.000000\n",
            "18    0.447214\n",
            "19    0.000000\n",
            "Name: Horror, dtype: float64' has dtype incompatible with int64, please explicitly cast to a compatible dtype first.\n",
            "  movies_weighted.iloc[:, 1:11] = movies_weighted.iloc[:, 1:11].div(movies_weighted[\"Weight\"], axis=0)\n"
          ]
        }
      ],
      "source": [
        "# Write your code here\n",
        "movies_weighted[\"Weight\"] = np.sqrt(movies_weighted[\"Num_Attr\"])\n",
        "\n",
        "movies_weighted.iloc[:, 1:11] = movies_weighted.iloc[:, 1:11].div(movies_weighted[\"Weight\"], axis=0)\n",
        "\n",
        "print(movies_weighted.head())\n"
      ]
    },
    {
      "cell_type": "markdown",
      "metadata": {
        "id": "8rULHIA-3PnE"
      },
      "source": [
        "\n",
        "\n",
        "2.   Compute your new user profiles and new predictions, using the new attribute values and the same schema as in Task 1.\n",
        "\n"
      ]
    },
    {
      "cell_type": "code",
      "execution_count": 10,
      "metadata": {
        "colab": {
          "base_uri": "https://localhost:8080/"
        },
        "id": "fgBuQ7fc3pWF",
        "outputId": "cdcb6427-6a4a-4902-fa37-77e39afdc0d3"
      },
      "outputs": [
        {
          "name": "stdout",
          "output_type": "stream",
          "text": [
            "                                    Movie  Joan_Likes  Pred_Joan_Weighted\n",
            "0                        Toy Story (1995)          -1           -0.845577\n",
            "1                          Jumanji (1995)           1            2.526393\n",
            "2                 Grumpier Old Men (1995)           0            0.016294\n",
            "3                Waiting to Exhale (1995)           1            1.987718\n",
            "4      Father of the Bride Part II (1995)           0            0.319151\n",
            "5                             Heat (1995)           0            0.336184\n",
            "6                          Sabrina (1995)           0            0.744432\n",
            "7                     Tom and Huck (1995)           0            1.014111\n",
            "8                     Sudden Death (1995)           0           -0.724476\n",
            "9                        GoldenEye (1995)           0            0.274493\n",
            "10         American President, The (1995)           0            0.349628\n",
            "11     Dracula: Dead and Loving It (1995)          -1           -1.227723\n",
            "12                           Balto (1995)           0            1.802786\n",
            "13                           Nixon (1995)           0            1.776393\n",
            "14                Cutthroat Island (1995)           0            0.949043\n",
            "15                          Casino (1995)           0           -1.183064\n",
            "16           Sense and Sensibility (1995)           1            2.526393\n",
            "17                      Four Rooms (1995)           0            1.060660\n",
            "18  Ace Ventura: When Nature Calls (1995)           0            0.483442\n",
            "19                     Money Train (1995)           0            1.237718\n"
          ]
        }
      ],
      "source": [
        "# Write your code here\n",
        "joan_likes_weighted_score = pd.DataFrame((movies_weighted.iloc[:, 1:11].values * joan_likes.values).sum(axis=0)).T\n",
        "\n",
        "john_likes_weighted_score = pd.DataFrame((movies_weighted.iloc[:, 1:11].values * john_likes.values).sum(axis=0)).T\n",
        "\n",
        "pred_joan_weighted = (movies_weighted.iloc[:, 1:11].values * joan_likes_weighted_score.values).sum(axis=1)\n",
        "\n",
        "movies_weighted[\"Pred_Joan_Weighted\"] = pred_joan_weighted\n",
        "\n",
        "print(movies_weighted[['Movie', 'Joan_Likes', 'Pred_Joan_Weighted']])\n"
      ]
    },
    {
      "cell_type": "markdown",
      "metadata": {
        "id": "WvR1SXs73r74"
      },
      "source": [
        "3. Have a look at the *John’s* and *Johan’s* prediction scores. Answer the following questions:¨\n",
        "\n",
        "* Which article does the new model predict John will like the best, excluding the movies he has already rated? Is it different than in Task 1?\n",
        "> *Answer:* Balto (1995)\n",
        "\n",
        "* What score does that prediction get?\n",
        "> *Answer:* 1.802786\n",
        "\n",
        "* How many movies does the new model predict the user Joan will dislike?\n",
        "> *Answer:* 4\n",
        "\n",
        "* Which movie will the user Joan like the most, excluding the movies she has already rated? Any changes in comparison to the results of Task 1?\n",
        "> *Answer:* No change in the top recommended movie but predicted score is lower in the weighted model\n",
        "\n",
        "* Which model do you consider is better? Under which situation would you use the\n",
        "unweighted model and under which the weighted model?\n",
        "> *Answer:* If accuracy and reliability are most important, I will go with the weighted model. But if I just need a quick, exploratory recommendation, the unweighted model might be a better starting point."
      ]
    },
    {
      "cell_type": "markdown",
      "metadata": {},
      "source": []
    }
  ],
  "metadata": {
    "colab": {
      "provenance": [],
      "toc_visible": true
    },
    "kernelspec": {
      "display_name": "Python 3",
      "name": "python3"
    }
  },
  "nbformat": 4,
  "nbformat_minor": 0
}
